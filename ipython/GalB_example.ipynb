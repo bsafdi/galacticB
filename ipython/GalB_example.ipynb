{
 "cells": [
  {
   "cell_type": "code",
   "execution_count": 215,
   "metadata": {},
   "outputs": [
    {
     "name": "stdout",
     "output_type": "stream",
     "text": [
      "The autoreload extension is already loaded. To reload it, use:\n",
      "  %reload_ext autoreload\n"
     ]
    }
   ],
   "source": [
    "%matplotlib inline\n",
    "%load_ext autoreload\n",
    "%autoreload 2\n",
    "\n",
    "import sys,os\n",
    "import numpy as np\n",
    "import matplotlib.pyplot as plt\n",
    "\n",
    "##############\n",
    "#For plotting\n",
    "import matplotlib.cm as cm\n",
    "\n",
    "from matplotlib import rc\n",
    "from matplotlib import rcParams\n",
    "rc('font', **{'family': 'serif', 'serif': ['Computer Modern']})\n",
    "rcParams['text.usetex'] = True\n",
    "rcParams['text.latex.unicode'] = True\n",
    "#rcParams['text.fontsize'] = 18\n",
    "\n",
    "sys.path.append(\"/Users/bsafdi/Dropbox/galacticB/python/\")\n",
    "import galB_models as gB"
   ]
  },
  {
   "cell_type": "code",
   "execution_count": 216,
   "metadata": {},
   "outputs": [],
   "source": [
    "# Use paper https://academic.oup.com/mnras/article/431/1/683/1050400\n",
    "\n",
    "B0 = 1. # \\muG\n",
    "Rscale = 20.0 # kpc\n",
    "hg = 6.0 #kpc\n",
    "Rmax = 20.0 # kpc\n",
    "\n",
    "Rmol = 5.0 #kpc\n",
    "theta_p = -11.5*np.pi/180. #radians\n",
    "\n",
    "def Br(r):\n",
    "    return B0*np.exp(-r**2/Rscale**2)\n",
    "\n",
    "def Bcoh(z):\n",
    "    return 1/np.cosh(z/hg)**2\n",
    "\n",
    "def Bhat(x,y):\n",
    "    r = np.sqrt(x**2+y**2)\n",
    "    phi = arctanM(y,x)\n",
    "    if r < Rmol:\n",
    "        return np.array([np.cos(phi+np.pi/2.),np.sin(phi+np.pi/2.)])\n",
    "    else:\n",
    "        r_hat = np.array([np.cos(phi),np.sin(phi)])\n",
    "        phi_hat = np.array([-np.sin(phi),np.cos(phi)])\n",
    "        #print r_hat, phi_hat\n",
    "        return np.sin(theta_p)*r_hat+np.cos(theta_p)*phi_hat\n",
    "    \n",
    "def B_ASS(x,y,z):\n",
    "    r = np.sqrt(x**2+y**2)\n",
    "    return Br(r)*Bcoh(z)*Bhat(x,y)\n",
    "\n",
    "######## B_ASS\n",
    "\n",
    "ais = np.array([3.0,0.5,-4.0,1.2,-0.8])\n",
    "phi0_is = np.array([10+90*1,10+90*2,10+90*3,10+90*4,10+90*5])*np.pi/180.\n",
    "Rcomp = 7.1 #kpc\n",
    "C0 = 2.5\n",
    "rcc =12.0 #kpc\n",
    "d0 = 0.3 #kpc\n",
    "hc = 2.0 #kpc\n",
    "\n",
    "def arctanM(x,y):\n",
    "    tmp = np.arctan2(x,y)\n",
    "    if tmp<0:\n",
    "        res= 2*np.pi+tmp\n",
    "    else:\n",
    "        res = tmp\n",
    "    return res\n",
    "        \n",
    "\n",
    "def Bcomp(z):\n",
    "    return 1./np.cosh(z/hc)**2\n",
    "\n",
    "def c(r):\n",
    "    if r<rcc:\n",
    "        return C0\n",
    "    else:\n",
    "        return C0*(r/rcc)**(-3.)\n",
    "\n",
    "def d0f(r):\n",
    "    return d0/(c(r)*Br(r))\n",
    "\n",
    "def ri(phi,i):\n",
    "    return 7.1*np.exp((phi-phi0_is[i-1])*np.tan(theta_p))\n",
    "\n",
    "def di(r,phi,i):\n",
    "    riA = ri(phi,i)\n",
    "    return np.abs(r-riA)\n",
    "\n",
    "def rhoc(x,y,z,d,i):\n",
    "    r = np.sqrt(x**2+y**2)\n",
    "    phi = arctanM(y,x)\n",
    "    rI = ri(phi,i)\n",
    "    return c(rI)*Bcomp(z)*np.exp(-d**2/d0f(rI)**2)\n",
    "\n",
    "def Barmi(x,y,z,i):\n",
    "    r = np.sqrt(x**2+y**2)\n",
    "    phi = arctanM(y,x)\n",
    "    \n",
    "    Bi = Br(r)\n",
    "    ai = ais[i-1]\n",
    "    #print ai\n",
    "    d = di(r,phi,i)\n",
    "    #print d, d0f(ri(phi,i))\n",
    "    rhoci = rhoc(x,y,z,d,i)\n",
    "    #print d, ri(phi,i), rhoci #, d0f(r)\n",
    "    Bh = Bhat(x,y)\n",
    "    return Bi*ai*rhoci*Bh\n",
    "\n",
    "def Barm(x,y,z):\n",
    "    res = np.zeros(2)\n",
    "    for i in [1,2,3,4,5]:\n",
    "        res += Barmi(x,y,z,i)\n",
    "    return res\n",
    "\n",
    "\n",
    "\n",
    "\n"
   ]
  },
  {
   "cell_type": "code",
   "execution_count": 217,
   "metadata": {},
   "outputs": [
    {
     "data": {
      "text/plain": [
       "array([8.93323528e-92, 4.86302678e-76])"
      ]
     },
     "execution_count": 217,
     "metadata": {},
     "output_type": "execute_result"
    }
   ],
   "source": [
    "Barm(-3,0,0)"
   ]
  },
  {
   "cell_type": "code",
   "execution_count": null,
   "metadata": {},
   "outputs": [],
   "source": [
    "xs = np.linspace(-12,12,200)\n",
    "ys = np.linspace(-12,12,200)\n",
    "\n",
    "BsM = np.zeros((len(xs),len(ys)))\n",
    "BsMS = np.zeros((len(xs),len(ys)))\n",
    "for i in range(len(xs)):\n",
    "    for j in range(len(ys)):\n",
    "        Bt = B_ASS(xs[i],ys[j],0.0)\n",
    "        Bt2 = Barm(xs[i],ys[j],0.0)\n",
    "        \n",
    "        BsM[i,j] = np.sqrt(Bt[0]**2+Bt[1]**2)\n",
    "        BsMS[i,j] = np.sqrt(Bt2[0]**2+Bt2[1]**2)\n",
    "\n",
    "\n",
    "X, Y = np.meshgrid(xs, ys)\n",
    "plt.pcolormesh(X, Y, BsM)\n",
    "plt.colorbar()"
   ]
  },
  {
   "cell_type": "code",
   "execution_count": null,
   "metadata": {},
   "outputs": [],
   "source": [
    "X, Y = np.meshgrid(xs, ys)\n",
    "plt.pcolormesh(X, Y, (BsMS).T,vmax=2,vmin=0)\n",
    "plt.colorbar()"
   ]
  },
  {
   "cell_type": "code",
   "execution_count": null,
   "metadata": {
    "collapsed": true
   },
   "outputs": [],
   "source": []
  }
 ],
 "metadata": {
  "kernelspec": {
   "display_name": "Python 2",
   "language": "python",
   "name": "python2"
  },
  "language_info": {
   "codemirror_mode": {
    "name": "ipython",
    "version": 2
   },
   "file_extension": ".py",
   "mimetype": "text/x-python",
   "name": "python",
   "nbconvert_exporter": "python",
   "pygments_lexer": "ipython2",
   "version": "2.7.13"
  }
 },
 "nbformat": 4,
 "nbformat_minor": 2
}
