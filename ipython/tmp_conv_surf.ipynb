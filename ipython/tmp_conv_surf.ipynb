{
 "cells": [
  {
   "cell_type": "code",
   "execution_count": 137,
   "metadata": {},
   "outputs": [
    {
     "name": "stdout",
     "output_type": "stream",
     "text": [
      "The autoreload extension is already loaded. To reload it, use:\n",
      "  %reload_ext autoreload\n"
     ]
    }
   ],
   "source": [
    "%matplotlib inline\n",
    "%load_ext autoreload\n",
    "%autoreload 2\n",
    "\n",
    "import sys,os\n",
    "import numpy as np\n",
    "import matplotlib.pyplot as plt\n",
    "\n",
    "##############\n",
    "#For plotting\n",
    "import matplotlib.cm as cm\n",
    "\n",
    "from matplotlib import rc\n",
    "from matplotlib import rcParams\n",
    "rc('font', **{'family': 'serif', 'serif': ['Computer Modern']})\n",
    "rcParams['text.usetex'] = True\n",
    "rcParams['text.latex.unicode'] = True\n",
    "#rcParams['text.fontsize'] = 18\n",
    "\n",
    "from scipy.integrate import odeint\n",
    "from scipy.integrate import solve_ivp\n",
    "\n",
    "sys.path.append(\"/Users/bsafdi/Dropbox/galacticB/python/\")\n",
    "sys.path.append(\"/Users/bsafdi/Dropbox/gmf/\")\n",
    "import galB_models as gB\n",
    "import gmf "
   ]
  },
  {
   "cell_type": "code",
   "execution_count": 138,
   "metadata": {},
   "outputs": [],
   "source": [
    "# B0 = 1e14 #G\n",
    "# P = 10.0 #s\n",
    "# f_a = 3 #GHz\n",
    "\n",
    "# m_a = 2*np.pi*f_a #GHz\n",
    "\n",
    "def rc(theta,phi,rc0,theta_m=0):\n",
    "    mdotr = np.cos(theta_m)*np.cos(theta) + np.sin(theta_m)*np.sin(theta)*np.cos(phi)\n",
    "    rc_v = rc0*np.abs(3*np.cos(theta)*mdotr - np.cos(theta_m))**(1/3.)\n",
    "    return rc_v\n",
    "\n",
    "def return_H(theta,phi,rc0,theta_m=0):\n",
    "    return rc(theta,phi,rc0,theta_m=theta_m)*np.cos(theta)\n",
    "\n",
    "def return_R(theta,phi,theta_m=0,rc0=1):\n",
    "    return rc(theta,phi,rc0,theta_m=theta_m)*np.sin(theta)\n",
    "\n",
    "def find_R(h_val,phi,theta_m=0,ntheta=10000,B0 = 1e14,P=10.0,f_a = 3):\n",
    "    m_a = 2*np.pi*f_a #GHz\n",
    "    rc0 = 224*(B0/1e14*1/P*(1/m_a)**2)**(1/3.)\n",
    "    thetas = np.linspace(0,np.pi/2.,ntheta)\n",
    "    hs = return_H(thetas,phi,rc0,theta_m=theta_m)\n",
    "    rcs = rc(thetas,phi,rc0,theta_m = theta_m)\n",
    "    amin = np.argmin((h_val-hs)**2)\n",
    "    #print hs[amin],hs[amin+1], h_val\n",
    "    #print amin\n",
    "    #print thetas[amin]*180/np.pi\n",
    "    return return_R(thetas[amin],phi,theta_m=theta_m,rc0=rc0),return_H(thetas[amin],phi,theta_m=theta_m,rc0=rc0),  rcs[amin]\n",
    "    \n",
    "\n"
   ]
  },
  {
   "cell_type": "code",
   "execution_count": 143,
   "metadata": {},
   "outputs": [],
   "source": [
    "pfrac_array = np.linspace(-1e-4,1e-4,int(1e4))\n",
    "def fill_array(arr,vals,pows):\n",
    "    for i in range(len(vals)):\n",
    "        val = vals[i]\n",
    "        pw = pows[i]\n",
    "        arg = np.argmin((val-pfrac_array)**2)\n",
    "        arr[arg]+=1.0*pw\n",
    "    return arr"
   ]
  },
  {
   "cell_type": "code",
   "execution_count": 194,
   "metadata": {},
   "outputs": [
    {
     "name": "stderr",
     "output_type": "stream",
     "text": [
      "/anaconda2/lib/python2.7/site-packages/ipykernel_launcher.py:35: RuntimeWarning: invalid value encountered in double_scalars\n",
      "/anaconda2/lib/python2.7/site-packages/ipykernel_launcher.py:22: RuntimeWarning: invalid value encountered in divide\n"
     ]
    }
   ],
   "source": [
    "h_array = np.linspace(-100,100,300)\n",
    "power = np.zeros(300)\n",
    "Band = np.zeros(300)\n",
    "fudge = 1.0\n",
    "\n",
    "power_fracs = np.zeros((len(h_array),len(pfrac_array)))\n",
    "\n",
    "P = 11.4 #s 8.4#\n",
    "B0 = 10**13.40 #10**13.53#\n",
    "f_a = 1.5 #GHz\n",
    "for k in range(len(h_array)):\n",
    "    phi_vec = np.linspace(0,2*np.pi,100)\n",
    "    rs = np.array([find_R(h_array[k],phi_vec[i],theta_m=35*np.pi/180.,P=P,B0=B0,f_a = f_a)[0] for i in range(len(phi_vec))])\n",
    "    rcs = np.array([find_R(h_array[k],phi_vec[i],theta_m=35*np.pi/180.,P=P,B0=B0,f_a = f_a)[2] for i in range(len(phi_vec))])\n",
    "    Hs = np.array([find_R(h_array[k],phi_vec[i],theta_m=35*np.pi/180.,P=P,B0=B0,f_a = f_a)[1] for i in range(len(phi_vec))])\n",
    "\n",
    "    # drdphi = np.zeros(len(rs)-2)\n",
    "    # for i in range(1,len(drdphi)):\n",
    "    #     drdphi[i] = (rs[i+1]-rs[i-1])/(phi_vec[i+1]-phi_vec[i-1])\n",
    "    drdphi = np.gradient(rs)/(phi_vec[1]-phi_vec[0])\n",
    "\n",
    "    cos_alpha = drdphi/np.sqrt(drdphi**2+rs**2)\n",
    "    \n",
    "    omega = 2*np.pi/P\n",
    "    vs = omega*np.sqrt(rcs**2-Hs**2)\n",
    "    c = 3e5\n",
    "    \n",
    "    zeros = np.zeros(len(rcs))\n",
    "    zeros[np.where(rcs>10)[0]] = 1.0\n",
    "    zeros[np.where((Hs - h_array[k])**2 > fudge**2)]= 0.0\n",
    "    dPdO = 1/rcs**6*zeros\n",
    "\n",
    "    power_fracs[k] = fill_array(power_fracs[k],vs/c*cos_alpha,dPdO)\n",
    "    power[k] = np.sum(dPdO)\n",
    "    Band[k] = np.sum(np.abs(cos_alpha)*dPdO*vs/c)/ np.sum(dPdO)\n",
    "    \n",
    "    "
   ]
  },
  {
   "cell_type": "code",
   "execution_count": 198,
   "metadata": {
    "collapsed": true
   },
   "outputs": [],
   "source": [
    "# def fit_gauss(fracs,pows):\n",
    "#     func = lambda f,x: x[0]*np.exp(-(f-x[1])**2/2./x[2]**2)\n",
    "    \n",
    "def find_mean_sigma(fracs,pows):\n",
    "    mean =  np.sum(fracs*pows)/np.sum(pows)\n",
    "    var = np.sum( (pows*(fracs - mean)**2) )/np.sum(pows)\n",
    "    return mean,np.sqrt(var)"
   ]
  },
  {
   "cell_type": "code",
   "execution_count": 199,
   "metadata": {},
   "outputs": [],
   "source": [
    "mean,sig = find_mean_sigma(pfrac_array,np.sum(power_fracs,axis=0))"
   ]
  },
  {
   "cell_type": "code",
   "execution_count": 200,
   "metadata": {},
   "outputs": [
    {
     "name": "stderr",
     "output_type": "stream",
     "text": [
      "/anaconda2/lib/python2.7/site-packages/ipykernel_launcher.py:5: RuntimeWarning: invalid value encountered in double_scalars\n",
      "  \"\"\"\n"
     ]
    }
   ],
   "source": [
    "mean_arr = np.zeros(len(power_fracs))\n",
    "sig_arr = np.zeros(len(power_fracs))\n",
    "for i in range(len(mean_arr)):\n",
    "    mean_arr[i],sig_arr[i] = find_mean_sigma(pfrac_array,power_fracs[i])\n",
    "    \n",
    "    "
   ]
  },
  {
   "cell_type": "code",
   "execution_count": 201,
   "metadata": {},
   "outputs": [
    {
     "data": {
      "text/plain": [
       "3.5414550448668792e-06"
      ]
     },
     "execution_count": 201,
     "metadata": {},
     "output_type": "execute_result"
    }
   ],
   "source": [
    "sig_arr[165]"
   ]
  },
  {
   "cell_type": "code",
   "execution_count": 202,
   "metadata": {},
   "outputs": [
    {
     "data": {
      "text/plain": [
       "[<matplotlib.lines.Line2D at 0x12a432ed0>]"
      ]
     },
     "execution_count": 202,
     "metadata": {},
     "output_type": "execute_result"
    },
    {
     "data": {
      "image/png": "[encoded data removed]",
      "text/plain": [
       "<matplotlib.figure.Figure at 0x12a08f410>"
      ]
     },
     "metadata": {},
     "output_type": "display_data"
    }
   ],
   "source": [
    "plt.plot(pfrac_array,power_fracs[160])"
   ]
  },
  {
   "cell_type": "code",
   "execution_count": 204,
   "metadata": {},
   "outputs": [
    {
     "data": {
      "text/plain": [
       "9.489458348369918e-06"
      ]
     },
     "execution_count": 204,
     "metadata": {},
     "output_type": "execute_result"
    }
   ],
   "source": [
    "sig"
   ]
  },
  {
   "cell_type": "code",
   "execution_count": 203,
   "metadata": {},
   "outputs": [
    {
     "data": {
      "text/plain": [
       "<matplotlib.lines.Line2D at 0x12a2dc210>"
      ]
     },
     "execution_count": 203,
     "metadata": {},
     "output_type": "execute_result"
    },
    {
     "data": {
      "image/png": "[encoded data removed]",
      "text/plain": [
       "<matplotlib.figure.Figure at 0x12a352e10>"
      ]
     },
     "metadata": {},
     "output_type": "display_data"
    }
   ],
   "source": [
    "#np.sum(power_fracs,axis=1)\n",
    "plt.plot(pfrac_array,np.sum(power_fracs,axis=0))\n",
    "plt.axvline(mean,color=\"black\")\n",
    "plt.axvline(mean-sig,color=\"black\")\n",
    "plt.axvline(mean+sig,color=\"black\")"
   ]
  },
  {
   "cell_type": "code",
   "execution_count": 156,
   "metadata": {},
   "outputs": [
    {
     "data": {
      "text/plain": [
       "(-9.000900090007629e-09, -1.1001100110009325e-08)"
      ]
     },
     "execution_count": 156,
     "metadata": {},
     "output_type": "execute_result"
    },
    {
     "data": {
      "image/png": "[encoded data removed]",
      "text/plain": [
       "<matplotlib.figure.Figure at 0x12747fbd0>"
      ]
     },
     "metadata": {},
     "output_type": "display_data"
    }
   ],
   "source": [
    "fc = pfrac_array[np.argmax(power_fracs[180])]\n",
    "plt.plot(pfrac_array,power_fracs[180])\n",
    "plt.xlim(0.9*fc,1.1*fc)"
   ]
  },
  {
   "cell_type": "code",
   "execution_count": 129,
   "metadata": {},
   "outputs": [
    {
     "data": {
      "text/plain": [
       "2.0943951023931954e-05"
      ]
     },
     "execution_count": 129,
     "metadata": {},
     "output_type": "execute_result"
    }
   ],
   "source": [
    "2*np.pi/10.0*10/(3e5)"
   ]
  },
  {
   "cell_type": "code",
   "execution_count": 128,
   "metadata": {},
   "outputs": [
    {
     "data": {
      "text/plain": [
       "array([False, False, False, False, False, False, False, False, False,\n",
       "       False, False, False, False, False, False, False, False, False,\n",
       "       False, False, False, False, False, False, False, False, False,\n",
       "       False, False, False, False, False, False, False, False, False,\n",
       "       False, False, False, False, False, False, False, False, False,\n",
       "       False, False, False, False, False, False, False, False, False,\n",
       "       False, False, False, False, False, False, False, False, False,\n",
       "       False, False, False, False, False, False, False, False, False,\n",
       "       False, False, False, False, False, False, False, False, False,\n",
       "       False, False, False, False, False, False, False, False, False,\n",
       "       False, False, False, False, False, False, False, False, False,\n",
       "       False, False, False, False, False, False, False, False, False,\n",
       "       False, False, False, False, False, False, False, False, False,\n",
       "       False, False, False, False, False, False, False, False, False,\n",
       "       False, False, False, False, False, False, False, False, False,\n",
       "       False, False, False, False, False, False, False, False, False,\n",
       "       False, False, False, False, False, False, False, False, False,\n",
       "       False, False, False, False, False, False, False, False, False,\n",
       "       False, False, False, False, False, False, False, False, False,\n",
       "       False, False, False, False, False, False, False, False, False,\n",
       "       False, False, False, False, False, False, False, False, False,\n",
       "       False, False, False, False, False, False, False, False, False,\n",
       "       False, False, False, False, False, False, False, False, False,\n",
       "       False, False, False, False, False, False, False, False, False,\n",
       "       False, False, False, False, False, False, False, False, False,\n",
       "       False, False, False, False, False, False, False, False, False,\n",
       "       False, False, False, False, False, False, False, False, False,\n",
       "       False, False, False, False, False, False, False, False, False,\n",
       "       False, False, False, False, False, False, False, False, False,\n",
       "       False, False, False, False, False, False, False, False, False,\n",
       "       False, False, False, False, False, False, False, False, False,\n",
       "       False, False, False, False, False, False, False, False, False,\n",
       "       False, False, False, False, False, False, False, False, False,\n",
       "       False, False, False])"
      ]
     },
     "execution_count": 128,
     "metadata": {},
     "output_type": "execute_result"
    }
   ],
   "source": [
    "np.isnan(Band)"
   ]
  },
  {
   "cell_type": "code",
   "execution_count": 132,
   "metadata": {},
   "outputs": [
    {
     "data": {
      "text/plain": [
       "7.246184410294724e-06"
      ]
     },
     "execution_count": 132,
     "metadata": {},
     "output_type": "execute_result"
    }
   ],
   "source": [
    "Band[np.isnan(Band)] = 0.0\n",
    "np.sum(power*Band)/np.sum(power)"
   ]
  },
  {
   "cell_type": "code",
   "execution_count": 133,
   "metadata": {},
   "outputs": [
    {
     "data": {
      "text/plain": [
       "2.5333333333333334e-06"
      ]
     },
     "execution_count": 133,
     "metadata": {},
     "output_type": "execute_result"
    }
   ],
   "source": [
    "(3.8*1e3)/(1.5e9)"
   ]
  },
  {
   "cell_type": "code",
   "execution_count": 134,
   "metadata": {},
   "outputs": [
    {
     "data": {
      "text/plain": [
       "8.000000000000002"
      ]
     },
     "execution_count": 134,
     "metadata": {},
     "output_type": "execute_result"
    }
   ],
   "source": [
    "1.6*5e-6*1e6"
   ]
  },
  {
   "cell_type": "code",
   "execution_count": 136,
   "metadata": {},
   "outputs": [
    {
     "data": {
      "text/plain": [
       "0.6309573444801932"
      ]
     },
     "execution_count": 136,
     "metadata": {},
     "output_type": "execute_result"
    }
   ],
   "source": [
    "1/10**0.2"
   ]
  },
  {
   "cell_type": "code",
   "execution_count": 92,
   "metadata": {},
   "outputs": [
    {
     "data": {
      "text/plain": [
       "[<matplotlib.lines.Line2D at 0x12417a790>]"
      ]
     },
     "execution_count": 92,
     "metadata": {},
     "output_type": "execute_result"
    },
    {
     "data": {
      "image/png": "[encoded data removed]",
      "text/plain": [
       "<matplotlib.figure.Figure at 0x124077050>"
      ]
     },
     "metadata": {},
     "output_type": "display_data"
    }
   ],
   "source": [
    "plt.plot(h_array,Band)"
   ]
  },
  {
   "cell_type": "code",
   "execution_count": 87,
   "metadata": {},
   "outputs": [
    {
     "data": {
      "text/plain": [
       "[<matplotlib.lines.Line2D at 0x12421dd10>]"
      ]
     },
     "execution_count": 87,
     "metadata": {},
     "output_type": "execute_result"
    },
    {
     "data": {
      "image/png": "[encoded data removed]",
      "text/plain": [
       "<matplotlib.figure.Figure at 0x123fe00d0>"
      ]
     },
     "metadata": {},
     "output_type": "display_data"
    }
   ],
   "source": [
    "plt.plot(h_array,power)"
   ]
  },
  {
   "cell_type": "code",
   "execution_count": 70,
   "metadata": {},
   "outputs": [],
   "source": [
    "phi_vec = np.linspace(0,2*np.pi,100)\n",
    "rs = np.array([find_R(0,phi_vec[i],theta_m=25*np.pi/180.)[0] for i in range(len(phi_vec))])\n",
    "rcs = np.array([find_R(0,phi_vec[i],theta_m=25*np.pi/180.)[2] for i in range(len(phi_vec))])\n",
    "Hs = np.array([find_R(0,phi_vec[i],theta_m=25*np.pi/180.)[1] for i in range(len(phi_vec))])\n",
    "\n",
    "# drdphi = np.zeros(len(rs)-2)\n",
    "# for i in range(1,len(drdphi)):\n",
    "#     drdphi[i] = (rs[i+1]-rs[i-1])/(phi_vec[i+1]-phi_vec[i-1])\n",
    "drdphi = np.gradient(rs)/(phi_vec[1]-phi_vec[0])\n",
    "    \n",
    "cos_alpha = drdphi/np.sqrt(drdphi**2+rs**2)"
   ]
  },
  {
   "cell_type": "code",
   "execution_count": 72,
   "metadata": {},
   "outputs": [
    {
     "data": {
      "text/plain": [
       "array([14.20602278, 14.20602278, 14.20602278, 14.20602278, 14.20602278,\n",
       "       14.20602278, 14.20602278, 14.20602278, 14.20602278, 14.20602278,\n",
       "       14.20602278, 14.20602278, 14.20602278, 14.20602278, 14.20602278,\n",
       "       14.20602278, 14.20602278, 14.20602278, 14.20602278, 14.20602278,\n",
       "       14.20602278, 14.20602278, 14.20602278, 14.20602278, 14.20602278,\n",
       "       14.20602278, 14.20602278, 14.20602278, 14.20602278, 14.20602278,\n",
       "       14.20602278, 14.20602278, 14.20602278, 14.20602278, 14.20602278,\n",
       "       14.20602278, 14.20602278, 14.20602278, 14.20602278, 14.20602278,\n",
       "       14.20602278, 14.20602278, 14.20602278, 14.20602278, 14.20602278,\n",
       "       14.20602278, 14.20602278, 14.20602278, 14.20602278, 14.20602278,\n",
       "       14.20602278, 14.20602278, 14.20602278, 14.20602278, 14.20602278,\n",
       "       14.20602278, 14.20602278, 14.20602278, 14.20602278, 14.20602278,\n",
       "       14.20602278, 14.20602278, 14.20602278, 14.20602278, 14.20602278,\n",
       "       14.20602278, 14.20602278, 14.20602278, 14.20602278, 14.20602278,\n",
       "       14.20602278, 14.20602278, 14.20602278, 14.20602278, 14.20602278,\n",
       "       14.20602278, 14.20602278, 14.20602278, 14.20602278, 14.20602278,\n",
       "       14.20602278, 14.20602278, 14.20602278, 14.20602278, 14.20602278,\n",
       "       14.20602278, 14.20602278, 14.20602278, 14.20602278, 14.20602278,\n",
       "       14.20602278, 14.20602278, 14.20602278, 14.20602278, 14.20602278,\n",
       "       14.20602278, 14.20602278, 14.20602278, 14.20602278, 14.20602278])"
      ]
     },
     "execution_count": 72,
     "metadata": {},
     "output_type": "execute_result"
    }
   ],
   "source": [
    "rs"
   ]
  },
  {
   "cell_type": "code",
   "execution_count": 79,
   "metadata": {},
   "outputs": [
    {
     "data": {
      "text/plain": [
       "(-1, 1)"
      ]
     },
     "execution_count": 79,
     "metadata": {},
     "output_type": "execute_result"
    },
    {
     "data": {
      "image/png": "[encoded data removed]",
      "text/plain": [
       "<matplotlib.figure.Figure at 0x123c7e7d0>"
      ]
     },
     "metadata": {},
     "output_type": "display_data"
    }
   ],
   "source": [
    "plt.plot(phi_vec,cos_alpha)\n",
    "plt.ylim(-1,1)\n",
    "\n",
    "#plt.show()\n",
    "\n",
    "#plt.plot(phi_vec,rcs)"
   ]
  },
  {
   "cell_type": "code",
   "execution_count": 74,
   "metadata": {},
   "outputs": [
    {
     "data": {
      "text/plain": [
       "[<matplotlib.lines.Line2D at 0x122df8950>]"
      ]
     },
     "execution_count": 74,
     "metadata": {},
     "output_type": "execute_result"
    },
    {
     "data": {
      "image/png": "[encoded data removed]",
      "text/plain": [
       "<matplotlib.figure.Figure at 0x122d8a610>"
      ]
     },
     "metadata": {},
     "output_type": "display_data"
    }
   ],
   "source": [
    "plt.plot(rs*np.cos(phi_vec),rs*np.sin(phi_vec))"
   ]
  },
  {
   "cell_type": "code",
   "execution_count": 10,
   "metadata": {},
   "outputs": [
    {
     "data": {
      "text/plain": [
       "0.5000000000000002"
      ]
     },
     "execution_count": 10,
     "metadata": {},
     "output_type": "execute_result"
    }
   ],
   "source": [
    "rc(np.pi/4.,3,0)"
   ]
  },
  {
   "cell_type": "code",
   "execution_count": null,
   "metadata": {
    "collapsed": true
   },
   "outputs": [],
   "source": []
  }
 ],
 "metadata": {
  "kernelspec": {
   "display_name": "Python 2",
   "language": "python",
   "name": "python2"
  },
  "language_info": {
   "codemirror_mode": {
    "name": "ipython",
    "version": 2
   },
   "file_extension": ".py",
   "mimetype": "text/x-python",
   "name": "python",
   "nbconvert_exporter": "python",
   "pygments_lexer": "ipython2",
   "version": "2.7.13"
  }
 },
 "nbformat": 4,
 "nbformat_minor": 2
}
