{
 "cells": [
  {
   "cell_type": "code",
   "execution_count": 1,
   "metadata": {
    "collapsed": true
   },
   "outputs": [],
   "source": [
    "%matplotlib inline\n",
    "%load_ext autoreload\n",
    "%autoreload 2\n",
    "\n",
    "import sys,os\n",
    "import numpy as np\n",
    "import matplotlib.pyplot as plt\n",
    "\n",
    "##############\n",
    "#For plotting\n",
    "import matplotlib.cm as cm\n",
    "\n",
    "from matplotlib import rc\n",
    "from matplotlib import rcParams\n",
    "rc('font', **{'family': 'serif', 'serif': ['Computer Modern']})\n",
    "rcParams['text.usetex'] = True\n",
    "rcParams['text.latex.unicode'] = True\n",
    "#rcParams['text.fontsize'] = 18\n",
    "\n",
    "from scipy.integrate import odeint\n",
    "from scipy.integrate import solve_ivp\n",
    "\n",
    "sys.path.append(\"/Users/bsafdi/Dropbox/galacticB/python/\")\n",
    "sys.path.append(\"/Users/bsafdi/Dropbox/gmf/\")\n",
    "import galB_models as gB\n",
    "import gmf "
   ]
  },
  {
   "cell_type": "code",
   "execution_count": 3,
   "metadata": {},
   "outputs": [],
   "source": [
    "result_dict = np.load('ben_dict.npz')['arr_0'].item()\n",
    "e_centers = result_dict['e_centers']\n",
    "Fit_20_60 = result_dict['20_60_Fit']\n",
    "Fit_40_60 = result_dict['40_60_Fit']\n",
    "Fit_20_75 = result_dict['20_75_Fit']\n",
    "cts_limits = result_dict['cts_limits']"
   ]
  },
  {
   "cell_type": "code",
   "execution_count": 30,
   "metadata": {},
   "outputs": [
    {
     "data": {
      "image/png": "[encoded data removed]",
      "text/plain": [
       "<matplotlib.figure.Figure at 0x106de1690>"
      ]
     },
     "metadata": {},
     "output_type": "display_data"
    }
   ],
   "source": [
    "fig = plt.figure(figsize=(10,8))\n",
    "plt.errorbar(e_centers, cts_limits[:, 1], yerr = [cts_limits[:, 1] - cts_limits[:, 0],\n",
    "                                                  cts_limits[:, 2] - cts_limits[:, 1]],\n",
    "             fmt = 's', c = 'black', capsize = 3)\n",
    "# plt.plot(e_centers, Fit_20_75, lw = 3)\n",
    "# plt.plot(e_centers, Fit_20_60, lw = 3)\n",
    "plt.plot(e_centers, Fit_40_60, lw = 3,color=\"black\",label=r\"$g_{a\\gamma\\gamma} = 2.5 \\times 10^{-12}$ GeV$^{-1}$\")\n",
    "plt.xlabel('Energy [keV]',fontsize=18)\n",
    "plt.ylabel(r'Bkg-Subtr. Counts',fontsize=18)\n",
    "plt.xlim(40,70)\n",
    "plt.axhline(0,linestyle=\"dashed\",color=\"grey\")\n",
    "plt.xticks(fontsize=18)\n",
    "plt.yticks(fontsize=18)\n",
    "plt.legend(fontsize=18)\n",
    "#plt.show()\n",
    "plt.savefig(\"back_sub_spectra.pdf\",bbox_inches=\"tight\")"
   ]
  },
  {
   "cell_type": "code",
   "execution_count": 25,
   "metadata": {},
   "outputs": [
    {
     "data": {
      "text/plain": [
       "2.6591479484724942"
      ]
     },
     "execution_count": 25,
     "metadata": {},
     "output_type": "execute_result"
    }
   ],
   "source": [
    "50**(1/4.)"
   ]
  },
  {
   "cell_type": "code",
   "execution_count": null,
   "metadata": {
    "collapsed": true
   },
   "outputs": [],
   "source": []
  }
 ],
 "metadata": {
  "kernelspec": {
   "display_name": "Python 2",
   "language": "python",
   "name": "python2"
  },
  "language_info": {
   "codemirror_mode": {
    "name": "ipython",
    "version": 2
   },
   "file_extension": ".py",
   "mimetype": "text/x-python",
   "name": "python",
   "nbconvert_exporter": "python",
   "pygments_lexer": "ipython2",
   "version": "2.7.13"
  }
 },
 "nbformat": 4,
 "nbformat_minor": 2
}
