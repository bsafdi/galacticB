{
 "cells": [
  {
   "cell_type": "code",
   "execution_count": 2,
   "metadata": {},
   "outputs": [
    {
     "name": "stdout",
     "output_type": "stream",
     "text": [
      "The autoreload extension is already loaded. To reload it, use:\n",
      "  %reload_ext autoreload\n"
     ]
    }
   ],
   "source": [
    "%matplotlib inline\n",
    "%load_ext autoreload\n",
    "%autoreload 2\n",
    "\n",
    "import sys,os\n",
    "import numpy as np\n",
    "import matplotlib.pyplot as plt\n",
    "\n",
    "##############\n",
    "#For plotting\n",
    "import matplotlib.cm as cm\n",
    "\n",
    "from matplotlib import rc\n",
    "from matplotlib import rcParams\n",
    "rc('font', **{'family': 'serif', 'serif': ['Computer Modern']})\n",
    "rcParams['text.usetex'] = True\n",
    "rcParams['text.latex.unicode'] = True\n",
    "#rcParams['text.fontsize'] = 18\n",
    "\n",
    "from scipy.integrate import odeint\n",
    "from scipy.integrate import solve_ivp\n",
    "\n",
    "sys.path.append(\"/Users/bsafdi/Dropbox/galacticB/python/\")\n",
    "sys.path.append(\"/Users/bsafdi/Dropbox/gmf/\")\n",
    "import galB_models as gB\n",
    "import gmf "
   ]
  },
  {
   "cell_type": "code",
   "execution_count": 3,
   "metadata": {
    "collapsed": true
   },
   "outputs": [],
   "source": [
    "#gB.B_ASS(-8.5,0,0.01)"
   ]
  },
  {
   "cell_type": "code",
   "execution_count": 4,
   "metadata": {},
   "outputs": [
    {
     "name": "stdout",
     "output_type": "stream",
     "text": [
      "-0.02999999999999936 0.0 0.0\n"
     ]
    }
   ],
   "source": [
    "# Cas A in Galactic coords\n",
    "x_sun = -8.5\n",
    "ell_CA = 0.0#339.54934*np.pi/180.#199.78723027*np.pi/180.#279*np.pi/180. #332.4*np.pi/180. #111.734745*np.pi/180.0 #rads\n",
    "b_CA = 0.0#-00.40416*np.pi/180.#-08.95860566*np.pi/180.#-31.938*np.pi/180. #-00.37*np.pi/180.#-02.129570*np.pi/180.0 #rads\n",
    "d_CA = 8.5-30e-3#8.2#3.2 #8.4##1.74#4.22#50.0#3.4 #kpc, to be revised later https://arxiv.org/pdf/astro-ph/0603371.pdf\n",
    "\n",
    "x_CA = x_sun+d_CA*np.cos(b_CA)*np.cos(ell_CA)\n",
    "y_CA = d_CA*np.cos(b_CA)*np.sin(ell_CA)\n",
    "z_CA = d_CA*np.sin(b_CA)\n",
    "xvec_CA = np.array([x_CA,y_CA,z_CA])\n",
    "print x_CA,y_CA,z_CA"
   ]
  },
  {
   "cell_type": "code",
   "execution_count": 5,
   "metadata": {
    "collapsed": true
   },
   "outputs": [],
   "source": [
    "# Different B-field models\n",
    "def Bfunct(xv):\n",
    "    return np.append(gB.B_ASS(xv[0],xv[1],xv[2]),0.0)+gB.Barm(xv[0],xv[1],xv[2])\n",
    "\n",
    "\n",
    "GMF0=gmf.GMF()\n",
    "GMFP = gmf.GMF_Pshirkov()\n",
    "def arctanM(x,y):\n",
    "    tmp = np.arctan2(x,y)\n",
    "    if tmp<0:\n",
    "        res= 2*np.pi+tmp\n",
    "    else:\n",
    "        res = tmp\n",
    "    return res\n",
    "\n",
    "def B_GMF(x_vec):\n",
    "    x,y,z = x_vec\n",
    "    rho = np.sqrt(x**2+y**2)\n",
    "    phi = arctanM(y,x)\n",
    "    rho_hat = np.array([x,y,0.0])/rho\n",
    "    phi_hat = np.array([-y,x,0.0])/rho\n",
    "    z_hat = np.array([0.0,0.0,1.0])\n",
    "    \n",
    "    disk,_ = GMF0.Bdisk(np.array([rho]),np.array([phi]),np.array([z]))\n",
    "    halo,_ = GMF0.Bhalo(np.array([rho]),np.array([z]))\n",
    "    Bx,_ = GMF0.BX(np.array([rho]),np.array([z]))\n",
    "    \n",
    "    Btot = rho_hat*(disk[0]+halo[0]+Bx[0])+phi_hat*(disk[1]+halo[1]+Bx[1])+z_hat*(disk[2]+halo[2]+Bx[2])\n",
    "    return Btot\n",
    "\n",
    "\n",
    "def B_Psh(x_vec):\n",
    "    x,y,z = x_vec\n",
    "    rho = np.sqrt(x**2+y**2)\n",
    "    phi = arctanM(y,x)\n",
    "    rho_hat = np.array([x,y,0.0])/rho\n",
    "    phi_hat = np.array([-y,x,0.0])/rho\n",
    "    z_hat = np.array([0.0,0.0,1.0])\n",
    "    \n",
    "    disk,_ = GMFP.Bdisk(np.array([rho]),np.array([phi]),np.array([z]))\n",
    "    halo,_ = GMFP.Bhalo(np.array([rho]),np.array([z]))\n",
    "    \n",
    "    Btot = rho_hat*(disk[0]+halo[0])+phi_hat*(disk[1]+halo[1])+z_hat*(disk[2]+halo[2])\n",
    "    return Btot\n",
    "\n",
    "\n"
   ]
  },
  {
   "cell_type": "code",
   "execution_count": 6,
   "metadata": {},
   "outputs": [
    {
     "data": {
      "text/plain": [
       "(array([ 0.16642205, -0.81799051,  0.        ]),\n",
       " array([0.08921106, 0.43848637, 0.24537241]),\n",
       " array([0.17431149, 1.9923894 , 0.        ]))"
      ]
     },
     "execution_count": 6,
     "metadata": {},
     "output_type": "execute_result"
    }
   ],
   "source": [
    "Bfunct(np.array([-8.5,0,0])), B_GMF(np.array([-8.5,0,0])),B_Psh(np.array([-8.5,0,0]))"
   ]
  },
  {
   "cell_type": "code",
   "execution_count": 7,
   "metadata": {
    "collapsed": true
   },
   "outputs": [],
   "source": [
    "class conversion:\n",
    "    def __init__(self,xf,Bfunc,xi=np.array([-8.5,0.0,0.00]),ne=3.5e-2,gagg=1e-11,omega=1.0,ma=1e-12):\n",
    "        #see https://arxiv.org/pdf/1704.05063.pdf for height\n",
    "        # consider later using Zi = 0.025, for example\n",
    "        # ne is electrons / cm^3\n",
    "        # Bfunc shoul be in microGauss\n",
    "        # gagg in GeV^{-1}\n",
    "        # ma in eV\n",
    "        self._xf = xf\n",
    "        self._xi = xi\n",
    "        self._compute_geometry()\n",
    "        self._Bfunc = Bfunc\n",
    "        self._ne = ne\n",
    "        self._gagg = gagg\n",
    "        self._omega = omega\n",
    "        self._ma = ma\n",
    "        self._Delta_gammaI = self._Delta_gamma(omega)\n",
    "        self._Delta_maI = self._Delta_ma(omega)\n",
    "    \n",
    "    def _compute_geometry(self):\n",
    "        rvec = self._xf - self._xi\n",
    "        self._d = np.linalg.norm(rvec)\n",
    "        self._rhat = rvec/self._d\n",
    "        \n",
    "        if self._rhat[2]>0:\n",
    "            N = self._rhat\n",
    "        else:\n",
    "            N = - self._rhat\n",
    "        \n",
    "        r1 = N[0]\n",
    "        r2 = N[1]\n",
    "        self._k1 = 1/np.sqrt(1-r2**2)*np.array([-np.sqrt(1-r1**2-r2**2),0,r1])\n",
    "        self._k2 = np.sqrt(1-r2**2)*np.array([-r1*r2/(1-r2**2),1,-r2*np.sqrt(1-r1**2-r2**2)/(1-r2**2)])\n",
    "\n",
    "    def _return_Bs(self,r):\n",
    "        '''\n",
    "        r in pc and is distance from the Sun\n",
    "        '''\n",
    "        rkpc = r*1e-3\n",
    "        x = self._xi + rkpc*self._rhat\n",
    "        Bf = self._Bfunc(x)\n",
    "        return np.dot(Bf,self._k1), np.dot(Bf,self._k2)\n",
    "        \n",
    "    def _Delta_gamma(self,omega):\n",
    "        '''\n",
    "        omega in keV\n",
    "        returns in 1/pc\n",
    "        '''\n",
    "        return -1.1e-4*(self._ne/1e-3)*(1./omega) #in 1/pc\n",
    "    \n",
    "    def _Delta_ma(self,omega):\n",
    "        '''\n",
    "        res in pc, omega in keV\n",
    "        '''\n",
    "        return -78.0*(self._ma/1e-9)**2*(1./omega)\n",
    "    \n",
    "    def _Delta_Bs(self,r):\n",
    "        '''\n",
    "        r in pc and is distance from the Sun\n",
    "        returns in inverse pc\n",
    "        '''\n",
    "        B1, B2 = self._return_Bs(r)\n",
    "        return 1.5e-2*(B1/1.0e3)*(self._gagg/1e-11),1.5e-2*(B2/1.0e3)*(self._gagg/1e-11)\n",
    "    \n",
    "    \n",
    "    def _RHS(self,y,r):\n",
    "        A1,A2,a = y\n",
    "        DeltaB1, DeltaB2 = self._Delta_Bs(r)\n",
    "        Delta_gamma  = self._Delta_gammaI\n",
    "        Delta_ma = self._Delta_maI\n",
    "        \n",
    "        return [-1j*(Delta_gamma*A1+DeltaB1*a),-1j*(Delta_gamma*A2+DeltaB2*a),-1j*(DeltaB1*A1+DeltaB2*A2+Delta_ma*a)]\n",
    "        \n",
    "    def _solve_ODE(self,omega=1.0,Nr=10000):\n",
    "        self._omega = omega\n",
    "        self._Delta_gammaI = self._Delta_gamma(omega)\n",
    "        self._Delta_maI = self._Delta_ma(omega)\n",
    "        dist = self._d*1e3 #in pc\n",
    "        \n",
    "        rs = np.linspace(0,dist,Nr)\n",
    "        \n",
    "        RHS = lambda r,y: self._RHS(y,r)\n",
    "        \n",
    "        sol = solve_ivp(RHS,[0.0,dist] ,[0.0+0*1j,0.0+0*1j,1.0+0*1j],t_eval=rs)\n",
    "        self.sol = sol\n",
    "        self.rs = rs\n",
    "        prob = np.zeros(Nr)\n",
    "        for i in range(Nr):\n",
    "            prob[i] = (np.conj(sol.y[0][i])*sol.y[0][i]+np.conj(sol.y[1][i])*sol.y[1][i])\n",
    "        self.prob = prob\n",
    "        return prob[-1]#sol\n",
    "        \n",
    "        \n",
    "        \n",
    "        \n",
    "    \n",
    "                 \n",
    "                 "
   ]
  },
  {
   "cell_type": "code",
   "execution_count": 214,
   "metadata": {},
   "outputs": [
    {
     "data": {
      "text/plain": [
       "array([-0.03,  0.  ,  0.  ])"
      ]
     },
     "execution_count": 214,
     "metadata": {},
     "output_type": "execute_result"
    }
   ],
   "source": [
    "xvec_CA"
   ]
  },
  {
   "cell_type": "code",
   "execution_count": 215,
   "metadata": {
    "collapsed": true
   },
   "outputs": [],
   "source": [
    "cI0 = conversion(xvec_CA,Bfunct,ma=1e-15,gagg=1e-12) #B_GMF\n",
    "cI1 = conversion(xvec_CA,B_GMF,ma=1e-15,gagg=1e-12) #,gagg=1e-11) #B_GMF\n",
    "cI2 = conversion(xvec_CA,B_Psh,ma=2e-11,gagg=1e-12) #B_GMF"
   ]
  },
  {
   "cell_type": "code",
   "execution_count": 216,
   "metadata": {},
   "outputs": [
    {
     "data": {
      "text/plain": [
       "(array([-0.,  0., -1.]), array([-0.,  1.,  0.]))"
      ]
     },
     "execution_count": 216,
     "metadata": {},
     "output_type": "execute_result"
    }
   ],
   "source": [
    "cI1._k1,cI1._k2"
   ]
  },
  {
   "cell_type": "code",
   "execution_count": 217,
   "metadata": {},
   "outputs": [
    {
     "name": "stdout",
     "output_type": "stream",
     "text": [
      "(0.0, -0.8214538323532871)\n",
      "(-0.2539811008985999, 0.4437064487723086)\n",
      "(0.0, 1.7523730245998392)\n"
     ]
    }
   ],
   "source": [
    "print cI0._return_Bs(100.)\n",
    "print cI1._return_Bs(100.0)\n",
    "print cI2._return_Bs(100.0)"
   ]
  },
  {
   "cell_type": "code",
   "execution_count": 218,
   "metadata": {
    "collapsed": true
   },
   "outputs": [],
   "source": [
    "tbi_1 = lambda r: cI1._return_Bs(r)[0]\n",
    "tbi_2 = lambda r: cI1._return_Bs(r)[1]"
   ]
  },
  {
   "cell_type": "code",
   "execution_count": 219,
   "metadata": {},
   "outputs": [
    {
     "data": {
      "text/plain": [
       "0.0"
      ]
     },
     "execution_count": 219,
     "metadata": {},
     "output_type": "execute_result"
    }
   ],
   "source": [
    "tbi_1(8400.0)"
   ]
  },
  {
   "cell_type": "code",
   "execution_count": 220,
   "metadata": {
    "collapsed": true
   },
   "outputs": [],
   "source": [
    "from scipy.integrate import cumtrapz"
   ]
  },
  {
   "cell_type": "code",
   "execution_count": 221,
   "metadata": {},
   "outputs": [
    {
     "name": "stdout",
     "output_type": "stream",
     "text": [
      "[ 10.5  35.5  70.5 115.5]\n"
     ]
    }
   ],
   "source": [
    "A = np.array([1,20,30,40,50])\n",
    "x = np.array([1,2,3,4,5])\n",
    "print cumtrapz(A,x)\n",
    "#print np.trapz(A[:-1],x[:-1])"
   ]
  },
  {
   "cell_type": "code",
   "execution_count": 222,
   "metadata": {},
   "outputs": [
    {
     "data": {
      "text/plain": [
       "(10.0, 10)"
      ]
     },
     "execution_count": 222,
     "metadata": {},
     "output_type": "execute_result"
    }
   ],
   "source": [
    "20/2., 30-20"
   ]
  },
  {
   "cell_type": "code",
   "execution_count": 223,
   "metadata": {
    "collapsed": true
   },
   "outputs": [],
   "source": [
    "import numpy as np\n",
    "from scipy.integrate import cumtrapz\n",
    "\n",
    "def return_prob(z_array,B_x,B_y,m_a=1e-15,E=10.0,g_agg = 1e-12,**kwargs):\n",
    "    '''\n",
    "    return_prob: Axion-photon conversion probability calculation as given in https://arxiv.org/pdf/1903.05088.pdf Eq. (5).\n",
    "    \n",
    "    Input:\n",
    "    ----\n",
    "    z_array: units [pc].  array of z-values going from the source to the Earth.\n",
    "    B_x, B_y: units [\\mu G]. arrays of the othogonal components of the magnetic field at the z values corresponding to z_array\n",
    "    m_a: units [eV]. mass of the axion.\n",
    "    g_agg: units [GeV^{-1}]. axion-photon coupling constant\n",
    "    E: energy of axion in keV\n",
    "    n_e: units [cm^{-3}]. free electron density at z values in z_array.  if empty then set to zero\n",
    "    \n",
    "    Returns\n",
    "    ----\n",
    "    prob: unitless, axion-photon conversion probability \n",
    "    '''\n",
    "    \n",
    "    ## First we check to see if an array of `n_e` values was given\n",
    "    if 'n_e' in kwargs.keys():\n",
    "        n_e = kwargs['n_e']\n",
    "    else:\n",
    "        n_e = np.zeros(len(z_array)) #else set to zeros\n",
    "        \n",
    "    ## Here we precompute some useful things\n",
    "    omega_pl = 1.19e-12*np.sqrt((n_e/1e-3)) #$\\omega_{pl}$ [units of eV]\n",
    "    Delta_parr = -0.0781*(omega_pl/1e-10)**2/(E/10.0) # $\\Delta_{||}$ [units of pc^{-1}]\n",
    "    axion_mass_factor = -0.0781*(m_a/1e-10)**2 /(E/10.0) #$\\Delta_a$ [units pc^{-1}]\n",
    "    norm_factor =(g_agg/1e-12)**2*8.8e12*(1e-12)**2/4. #units conversion factor that accounts for g_agg [dimensionless]\n",
    "    Delta_parr_int = cumtrapz(Delta_parr,z_array) #The integral of $\\Delta_{||}$ appearing in exponential of Eq. 5 [dimensionless]\n",
    "    z_centers = (z_array[1:]+z_array[:-1])/2. #We have to integrate twice, so going to downbin the z_array once\n",
    "    B_x_centers = (B_x[1:]+B_x[:-1])/2. #down-binned B_x's\n",
    "    B_y_centers = (B_y[1:]+B_y[:-1])/2. #down-binned B_y's\n",
    "    \n",
    "    prob_x_integrand = B_x_centers*np.exp(1j*axion_mass_factor*z_centers -1j*Delta_parr_int ) #The B_x part of the integral\n",
    "    prob_y_integrand = B_y_centers*np.exp(1j*axion_mass_factor*z_centers -1j*Delta_parr_int ) #The B_y part of integral\n",
    "    prob_x_complex = np.trapz(prob_x_integrand,z_centers) #Do the integral\n",
    "    prob_y_complex = np.trapz(prob_y_integrand,z_centers) #Do the integral\n",
    "    \n",
    "    # Below, we apply the normalization and compute the conversion probability.  The np.real is just there to convert back to real number type\n",
    "    prob =  np.real(norm_factor*(prob_x_complex*np.conj(prob_x_complex)+prob_y_complex*np.conj(prob_y_complex)))\n",
    "    return prob"
   ]
  },
  {
   "cell_type": "code",
   "execution_count": 224,
   "metadata": {},
   "outputs": [
    {
     "name": "stdout",
     "output_type": "stream",
     "text": [
      "1.17931034483\n",
      "[0.78314285 1.24295946]\n"
     ]
    }
   ],
   "source": [
    "print 171/145.\n",
    "from scipy.stats import chi2\n",
    "print np.array(chi2.interval(0.95,145))/145."
   ]
  },
  {
   "cell_type": "code",
   "execution_count": 225,
   "metadata": {
    "collapsed": true
   },
   "outputs": [],
   "source": [
    "z_arr = np.linspace(0,cI1._d*1e3,int(4e4))\n",
    "B_arr_x = np.zeros(len(z_arr))\n",
    "B_arr_y = np.zeros(len(z_arr))\n",
    "for i in range(len(B_arr_x)):\n",
    "    Bx,By = cI1._return_Bs(z_arr[i])\n",
    "    B_arr_x[i] = Bx\n",
    "    B_arr_y[i] = By"
   ]
  },
  {
   "cell_type": "code",
   "execution_count": 226,
   "metadata": {
    "collapsed": true
   },
   "outputs": [],
   "source": [
    "import copy\n",
    "B_arr_x_2 = copy.deepcopy(B_arr_x)\n",
    "whs = np.where(B_arr_x==0.0)[0]\n",
    "B_arr_x_2[whs] = np.min(B_arr_x)"
   ]
  },
  {
   "cell_type": "code",
   "execution_count": 242,
   "metadata": {},
   "outputs": [
    {
     "data": {
      "text/plain": [
       "[<matplotlib.lines.Line2D at 0x11366b250>]"
      ]
     },
     "execution_count": 242,
     "metadata": {},
     "output_type": "execute_result"
    },
    {
     "data": {
      "image/png": "[encoded data removed]",
      "text/plain": [
       "<matplotlib.figure.Figure at 0x11da3da50>"
      ]
     },
     "metadata": {},
     "output_type": "display_data"
    }
   ],
   "source": [
    "\n",
    "zs,nes = np.load(\"Quintuplet_NE.npy\")#np.load(\"Wd1_NE.npy\")#np.load(\"Quintuplet_NE.npy\")\n",
    "plt.plot(zs,nes)\n",
    "plt.yscale('log')\n",
    "\n",
    "ne_int = np.interp(z_arr,zs,nes)\n",
    "plt.plot(z_arr,ne_int)"
   ]
  },
  {
   "cell_type": "code",
   "execution_count": 243,
   "metadata": {
    "collapsed": true
   },
   "outputs": [],
   "source": [
    "prob_masses = np.geomspace(1e-13, 1e-9, 19)\n",
    "prob_energies = np.linspace(7.7, 77.7, 176)\n",
    "conv_probs = np.zeros((len(prob_masses),len(prob_energies)))\n",
    "for i in range(len(prob_masses)):\n",
    "    for j in range(len(prob_energies)):\n",
    "        conv_probs[i,j] = return_prob(z_arr,B_arr_x_2,B_arr_y,E=prob_energies[j],m_a=prob_masses[i],n_e=ne_int)\n",
    "        \n",
    "        "
   ]
  },
  {
   "cell_type": "code",
   "execution_count": 244,
   "metadata": {},
   "outputs": [
    {
     "data": {
      "image/png": "[encoded data removed]",
      "text/plain": [
       "<matplotlib.figure.Figure at 0x11bf23190>"
      ]
     },
     "metadata": {},
     "output_type": "display_data"
    }
   ],
   "source": [
    "plt.plot(prob_energies,conv_probs[1])\n",
    "#plt.plot(prob_energies,conv_probs[13])\n",
    "plt.yscale('log')"
   ]
  },
  {
   "cell_type": "code",
   "execution_count": 245,
   "metadata": {},
   "outputs": [
    {
     "data": {
      "image/png": "[encoded data removed]",
      "text/plain": [
       "<matplotlib.figure.Figure at 0x1151c1210>"
      ]
     },
     "metadata": {},
     "output_type": "display_data"
    }
   ],
   "source": [
    "plt.plot(prob_energies,conv_probs[0])\n",
    "#plt.plot(prob_energies,conv_probs[13])\n",
    "plt.yscale('log')"
   ]
  },
  {
   "cell_type": "code",
   "execution_count": 231,
   "metadata": {},
   "outputs": [
    {
     "data": {
      "text/plain": [
       "'/Users/bsafdi/Dropbox (Personal)/galacticB/ipython'"
      ]
     },
     "execution_count": 231,
     "metadata": {},
     "output_type": "execute_result"
    }
   ],
   "source": [
    "os.getcwd()"
   ]
  },
  {
   "cell_type": "code",
   "execution_count": 232,
   "metadata": {
    "collapsed": true
   },
   "outputs": [],
   "source": [
    "# np.save(\"conversion_prob_example_Wd1.npy\",conv_probs)\n",
    "np.save(\"conversion_prob_example_quint.npy\",conv_probs)"
   ]
  },
  {
   "cell_type": "code",
   "execution_count": 118,
   "metadata": {},
   "outputs": [
    {
     "data": {
      "text/plain": [
       "[<matplotlib.lines.Line2D at 0x1135089d0>]"
      ]
     },
     "execution_count": 118,
     "metadata": {},
     "output_type": "execute_result"
    },
    {
     "data": {
      "image/png": "[encoded data removed]",
      "text/plain": [
       "<matplotlib.figure.Figure at 0x1131c9310>"
      ]
     },
     "metadata": {},
     "output_type": "display_data"
    }
   ],
   "source": [
    "plt.plot(z_arr,B_arr_x)\n",
    "plt.plot(z_arr,B_arr_x_2)\n",
    "plt.plot(z_arr,B_arr_y)"
   ]
  },
  {
   "cell_type": "code",
   "execution_count": 68,
   "metadata": {},
   "outputs": [
    {
     "data": {
      "text/plain": [
       "(8e-06, 2.0833333333333333e-07)"
      ]
     },
     "execution_count": 68,
     "metadata": {},
     "output_type": "execute_result"
    }
   ],
   "source": [
    "5e-7/(0.25)**2, 3e-7/1.2**2"
   ]
  },
  {
   "cell_type": "code",
   "execution_count": 69,
   "metadata": {},
   "outputs": [
    {
     "data": {
      "text/plain": [
       "3.048315805517453e-08"
      ]
     },
     "execution_count": 69,
     "metadata": {},
     "output_type": "execute_result"
    }
   ],
   "source": [
    "0.5e-4*(1/0.00405)**2*(1e11/1e12)**2*(1e-3)**2"
   ]
  },
  {
   "cell_type": "code",
   "execution_count": 84,
   "metadata": {
    "scrolled": false
   },
   "outputs": [
    {
     "name": "stderr",
     "output_type": "stream",
     "text": [
      "/anaconda2/lib/python2.7/site-packages/ipykernel_launcher.py:89: ComplexWarning: Casting complex values to real discards the imaginary part\n"
     ]
    },
    {
     "name": "stdout",
     "output_type": "stream",
     "text": [
      "0.00010354195669503612\n",
      "0.00018766931327514295\n",
      "0.0001854908278744543\n"
     ]
    }
   ],
   "source": [
    "print cI0._solve_ODE(omega=50.0) #1.9e-4, without is 1.905e-4\n",
    "print cI1._solve_ODE(omega=100.0)\n",
    "print cI2._solve_ODE(omega=50.0)"
   ]
  },
  {
   "cell_type": "code",
   "execution_count": 14,
   "metadata": {},
   "outputs": [
    {
     "data": {
      "text/plain": [
       "0.00011942148760330576"
      ]
     },
     "execution_count": 14,
     "metadata": {},
     "output_type": "execute_result"
    }
   ],
   "source": [
    "5e-7*(0.220/3.4)**-2"
   ]
  },
  {
   "cell_type": "code",
   "execution_count": 15,
   "metadata": {},
   "outputs": [
    {
     "data": {
      "text/plain": [
       "0.036"
      ]
     },
     "execution_count": 15,
     "metadata": {},
     "output_type": "execute_result"
    }
   ],
   "source": [
    "10*(3./50.)**2"
   ]
  },
  {
   "cell_type": "code",
   "execution_count": 141,
   "metadata": {},
   "outputs": [
    {
     "data": {
      "text/plain": [
       "<matplotlib.text.Text at 0x10d65ca10>"
      ]
     },
     "execution_count": 141,
     "metadata": {},
     "output_type": "execute_result"
    },
    {
     "data": {
      "image/png": "[encoded data removed]",
      "text/plain": [
       "<matplotlib.figure.Figure at 0x10d6637d0>"
      ]
     },
     "metadata": {},
     "output_type": "display_data"
    }
   ],
   "source": [
    "plt.plot(cI0.rs,cI0.prob)\n",
    "plt.plot(cI1.rs,cI1.prob)\n",
    "plt.plot(cI2.rs,cI2.prob)\n",
    "plt.yscale('log')\n",
    "plt.ylim(1e-5,1e-2)\n",
    "plt.xlabel(\"distance towards Cas A [pc]\")\n",
    "plt.ylabel(\"conversion probability\")"
   ]
  },
  {
   "cell_type": "code",
   "execution_count": null,
   "metadata": {
    "collapsed": true
   },
   "outputs": [],
   "source": []
  }
 ],
 "metadata": {
  "kernelspec": {
   "display_name": "Python 2",
   "language": "python",
   "name": "python2"
  },
  "language_info": {
   "codemirror_mode": {
    "name": "ipython",
    "version": 2
   },
   "file_extension": ".py",
   "mimetype": "text/x-python",
   "name": "python",
   "nbconvert_exporter": "python",
   "pygments_lexer": "ipython2",
   "version": "2.7.13"
  }
 },
 "nbformat": 4,
 "nbformat_minor": 2
}
