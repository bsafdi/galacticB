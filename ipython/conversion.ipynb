{
 "cells": [
  {
   "cell_type": "code",
   "execution_count": 33,
   "metadata": {},
   "outputs": [
    {
     "name": "stdout",
     "output_type": "stream",
     "text": [
      "The autoreload extension is already loaded. To reload it, use:\n",
      "  %reload_ext autoreload\n"
     ]
    }
   ],
   "source": [
    "%matplotlib inline\n",
    "%load_ext autoreload\n",
    "%autoreload 2\n",
    "\n",
    "import sys,os\n",
    "import numpy as np\n",
    "import matplotlib.pyplot as plt\n",
    "\n",
    "##############\n",
    "#For plotting\n",
    "import matplotlib.cm as cm\n",
    "\n",
    "from matplotlib import rc\n",
    "from matplotlib import rcParams\n",
    "rc('font', **{'family': 'serif', 'serif': ['Computer Modern']})\n",
    "rcParams['text.usetex'] = True\n",
    "rcParams['text.latex.unicode'] = True\n",
    "#rcParams['text.fontsize'] = 18\n",
    "\n",
    "from scipy.integrate import odeint\n",
    "from scipy.integrate import solve_ivp\n",
    "\n",
    "sys.path.append(\"/Users/bsafdi/Dropbox/galacticB/python/\")\n",
    "sys.path.append(\"/Users/bsafdi/Dropbox/gmf/\")\n",
    "import galB_models as gB\n",
    "import gmf "
   ]
  },
  {
   "cell_type": "code",
   "execution_count": 8,
   "metadata": {},
   "outputs": [],
   "source": [
    "#gB.B_ASS(-8.5,0,0.01)"
   ]
  },
  {
   "cell_type": "code",
   "execution_count": 9,
   "metadata": {},
   "outputs": [
    {
     "name": "stdout",
     "output_type": "stream",
     "text": [
      "-9.758184871029112 3.1561065405966744 -0.12634213357527135\n"
     ]
    }
   ],
   "source": [
    "# Cas A in Galactic coords\n",
    "x_sun = -8.5\n",
    "ell_CA = 111.734745*np.pi/180.0 #rads\n",
    "b_CA = -02.129570*np.pi/180.0 #rads\n",
    "d_CA = 3.4 #kpc, to be revised later https://arxiv.org/pdf/astro-ph/0603371.pdf\n",
    "\n",
    "x_CA = x_sun+d_CA*np.cos(b_CA)*np.cos(ell_CA)\n",
    "y_CA = d_CA*np.cos(b_CA)*np.sin(ell_CA)\n",
    "z_CA = d_CA*np.sin(b_CA)\n",
    "xvec_CA = np.array([x_CA,y_CA,z_CA])\n",
    "print x_CA,y_CA,z_CA"
   ]
  },
  {
   "cell_type": "code",
   "execution_count": 109,
   "metadata": {},
   "outputs": [],
   "source": [
    "# Different B-field models\n",
    "def Bfunct(xv):\n",
    "    return np.append(gB.B_ASS(xv[0],xv[1],xv[2]),0.0)+gB.Barm(xv[0],xv[1],xv[2])\n",
    "\n",
    "\n",
    "GMF0=gmf.GMF()\n",
    "GMFP = gmf.GMF_Pshirkov()\n",
    "def arctanM(x,y):\n",
    "    tmp = np.arctan2(x,y)\n",
    "    if tmp<0:\n",
    "        res= 2*np.pi+tmp\n",
    "    else:\n",
    "        res = tmp\n",
    "    return res\n",
    "\n",
    "def B_GMF(x_vec):\n",
    "    x,y,z = x_vec\n",
    "    rho = np.sqrt(x**2+y**2)\n",
    "    phi = arctanM(y,x)\n",
    "    rho_hat = np.array([x,y,0.0])/rho\n",
    "    phi_hat = np.array([-y,x,0.0])/rho\n",
    "    z_hat = np.array([0.0,0.0,1.0])\n",
    "    \n",
    "    disk,_ = GMF0.Bdisk(np.array([rho]),np.array([phi]),np.array([z]))\n",
    "    halo,_ = GMF0.Bhalo(np.array([rho]),np.array([z]))\n",
    "    Bx,_ = GMF0.BX(np.array([rho]),np.array([z]))\n",
    "    \n",
    "    Btot = rho_hat*(disk[0]+halo[0]+Bx[0])+phi_hat*(disk[1]+halo[1]+Bx[1])+z_hat*(disk[2]+halo[2]+Bx[2])\n",
    "    return Btot\n",
    "\n",
    "\n",
    "def B_Psh(x_vec):\n",
    "    x,y,z = x_vec\n",
    "    rho = np.sqrt(x**2+y**2)\n",
    "    phi = arctanM(y,x)\n",
    "    rho_hat = np.array([x,y,0.0])/rho\n",
    "    phi_hat = np.array([-y,x,0.0])/rho\n",
    "    z_hat = np.array([0.0,0.0,1.0])\n",
    "    \n",
    "    disk,_ = GMFP.Bdisk(np.array([rho]),np.array([phi]),np.array([z]))\n",
    "    halo,_ = GMFP.Bhalo(np.array([rho]),np.array([z]))\n",
    "    \n",
    "    Btot = rho_hat*(disk[0]+halo[0])+phi_hat*(disk[1]+halo[1])+z_hat*(disk[2]+halo[2])\n",
    "    return Btot\n",
    "\n",
    "\n"
   ]
  },
  {
   "cell_type": "code",
   "execution_count": 111,
   "metadata": {},
   "outputs": [
    {
     "data": {
      "text/plain": [
       "(array([ 0.16642205, -0.81799051,  0.        ]),\n",
       " array([0.08921106, 0.43848637, 0.24537241]),\n",
       " array([0.17431149, 1.9923894 , 0.        ]))"
      ]
     },
     "execution_count": 111,
     "metadata": {},
     "output_type": "execute_result"
    }
   ],
   "source": [
    "Bfunct(np.array([-8.5,0,0])), B_GMF(np.array([-8.5,0,0])),B_Psh(np.array([-8.5,0,0]))"
   ]
  },
  {
   "cell_type": "code",
   "execution_count": 136,
   "metadata": {
    "collapsed": true
   },
   "outputs": [],
   "source": [
    "class conversion:\n",
    "    def __init__(self,xf,Bfunc,xi=np.array([-8.5,0.0,0.00]),ne=3.5e-2,gagg=1e-11,omega=1.0,ma=1e-12):\n",
    "        #see https://arxiv.org/pdf/1704.05063.pdf for height\n",
    "        # consider later using Zi = 0.025, for example\n",
    "        # ne is electrons / cm^3\n",
    "        # Bfunc shoul be in microGauss\n",
    "        # gagg in GeV^{-1}\n",
    "        # ma in eV\n",
    "        self._xf = xf\n",
    "        self._xi = xi\n",
    "        self._compute_geometry()\n",
    "        self._Bfunc = Bfunc\n",
    "        self._ne = ne\n",
    "        self._gagg = gagg\n",
    "        self._omega = omega\n",
    "        self._ma = ma\n",
    "        self._Delta_gammaI = self._Delta_gamma(omega)\n",
    "        self._Delta_maI = self._Delta_ma(omega)\n",
    "    \n",
    "    def _compute_geometry(self):\n",
    "        rvec = self._xf - self._xi\n",
    "        self._d = np.linalg.norm(rvec)\n",
    "        self._rhat = rvec/self._d\n",
    "        \n",
    "        if self._rhat[2]>0:\n",
    "            N = self._rhat\n",
    "        else:\n",
    "            N = - self._rhat\n",
    "        \n",
    "        r1 = N[0]\n",
    "        r2 = N[1]\n",
    "        self._k1 = 1/np.sqrt(1-r2**2)*np.array([-np.sqrt(1-r1**2-r2**2),0,r1])\n",
    "        self._k2 = np.sqrt(1-r2**2)*np.array([-r1*r2/(1-r2**2),1,-r2*np.sqrt(1-r1**2-r2**2)/(1-r2**2)])\n",
    "\n",
    "    def _return_Bs(self,r):\n",
    "        '''\n",
    "        r in pc and is distance from the Sun\n",
    "        '''\n",
    "        rkpc = r*1e-3\n",
    "        x = self._xi + rkpc*self._rhat\n",
    "        Bf = self._Bfunc(x)\n",
    "        return np.dot(Bf,self._k1), np.dot(Bf,self._k2)\n",
    "        \n",
    "    def _Delta_gamma(self,omega):\n",
    "        '''\n",
    "        omega in keV\n",
    "        returns in 1/pc\n",
    "        '''\n",
    "        return -1.1e-4*(self._ne/1e-3)*(1./omega) #in 1/pc\n",
    "    \n",
    "    def _Delta_ma(self,omega):\n",
    "        '''\n",
    "        res in pc, omega in keV\n",
    "        '''\n",
    "        return -78.0*(self._ma/1e-9)**2*(1./omega)\n",
    "    \n",
    "    def _Delta_Bs(self,r):\n",
    "        '''\n",
    "        r in pc and is distance from the Sun\n",
    "        returns in inverse pc\n",
    "        '''\n",
    "        B1, B2 = self._return_Bs(r)\n",
    "        return 1.5e-2*(B1/1.0e3)*(self._gagg/1e-11),1.5e-2*(B2/1.0e3)*(self._gagg/1e-11)\n",
    "    \n",
    "    \n",
    "    def _RHS(self,y,r):\n",
    "        A1,A2,a = y\n",
    "        DeltaB1, DeltaB2 = self._Delta_Bs(r)\n",
    "        Delta_gamma  = self._Delta_gammaI\n",
    "        Delta_ma = self._Delta_maI\n",
    "        \n",
    "        return [-1j*(Delta_gamma*A1+DeltaB1*a),-1j*(Delta_gamma*A2+DeltaB2*a),-1j*(DeltaB1*A1+DeltaB2*A2+Delta_ma*a)]\n",
    "        \n",
    "    def _solve_ODE(self,omega=1.0,Nr=10000):\n",
    "        self._omega = omega\n",
    "        self._Delta_gammaI = self._Delta_gamma(omega)\n",
    "        self._Delta_maI = self._Delta_ma(omega)\n",
    "        dist = self._d*1e3 #in pc\n",
    "        \n",
    "        rs = np.linspace(0,dist,Nr)\n",
    "        \n",
    "        RHS = lambda r,y: self._RHS(y,r)\n",
    "        \n",
    "        sol = solve_ivp(RHS,[0.0,dist] ,[0.0+0*1j,0.0+0*1j,1.0+0*1j],t_eval=rs)\n",
    "        self.sol = sol\n",
    "        self.rs = rs\n",
    "        prob = np.zeros(Nr)\n",
    "        for i in range(Nr):\n",
    "            prob[i] = (np.conj(sol.y[0][i])*sol.y[0][i]+np.conj(sol.y[1][i])*sol.y[1][i])\n",
    "        self.prob = prob\n",
    "        return prob[-1]#sol\n",
    "        \n",
    "        \n",
    "        \n",
    "        \n",
    "    \n",
    "                 \n",
    "                 "
   ]
  },
  {
   "cell_type": "code",
   "execution_count": 137,
   "metadata": {},
   "outputs": [],
   "source": [
    "#Bfunct(np.array([-8.5,0,0]))"
   ]
  },
  {
   "cell_type": "code",
   "execution_count": 138,
   "metadata": {},
   "outputs": [],
   "source": [
    "cI0 = conversion(xvec_CA,Bfunct,ma=1e-15) #B_GMF\n",
    "cI1 = conversion(xvec_CA,B_GMF,ma=1e-15) #B_GMF\n",
    "cI2 = conversion(xvec_CA,B_Psh,ma=1e-15) #B_GMF"
   ]
  },
  {
   "cell_type": "code",
   "execution_count": 139,
   "metadata": {},
   "outputs": [
    {
     "name": "stdout",
     "output_type": "stream",
     "text": [
      "(-0.007885629189881716, -0.23052481025501292)\n",
      "(0.11452789547679523, 0.8345403353063223)\n",
      "(-0.04698515531493712, 1.3671175615660816)\n"
     ]
    }
   ],
   "source": [
    "print cI0._return_Bs(1000.0)\n",
    "print cI1._return_Bs(1000.0)\n",
    "print cI2._return_Bs(1000.0)"
   ]
  },
  {
   "cell_type": "code",
   "execution_count": 140,
   "metadata": {
    "scrolled": true
   },
   "outputs": [
    {
     "name": "stderr",
     "output_type": "stream",
     "text": [
      "/anaconda2/lib/python2.7/site-packages/ipykernel_launcher.py:89: ComplexWarning: Casting complex values to real discards the imaginary part\n"
     ]
    },
    {
     "name": "stdout",
     "output_type": "stream",
     "text": [
      "0.00018984059699908085\n",
      "0.0017450072935801767\n",
      "0.004100057899852275\n"
     ]
    }
   ],
   "source": [
    "print cI0._solve_ODE(omega=50.0) #1.9e-4, without is 1.905e-4\n",
    "print cI1._solve_ODE(omega=50.0)\n",
    "print cI2._solve_ODE(omega=50.0)"
   ]
  },
  {
   "cell_type": "code",
   "execution_count": null,
   "metadata": {},
   "outputs": [
    {
     "data": {
      "text/plain": [
       "<matplotlib.text.Text at 0x10d65ca10>"
      ]
     },
     "execution_count": 141,
     "metadata": {},
     "output_type": "execute_result"
    }
   ],
   "source": [
    "plt.plot(cI0.rs,cI0.prob)\n",
    "plt.plot(cI1.rs,cI1.prob)\n",
    "plt.plot(cI2.rs,cI2.prob)\n",
    "plt.yscale('log')\n",
    "plt.ylim(1e-5,1e-2)\n",
    "plt.xlabel(\"distance towards Cas A [pc]\")\n",
    "plt.ylabel(\"conversion probability\")"
   ]
  },
  {
   "cell_type": "code",
   "execution_count": null,
   "metadata": {
    "collapsed": true
   },
   "outputs": [],
   "source": []
  }
 ],
 "metadata": {
  "kernelspec": {
   "display_name": "Python 2",
   "language": "python",
   "name": "python2"
  }
 },
 "nbformat": 4,
 "nbformat_minor": 2
}
